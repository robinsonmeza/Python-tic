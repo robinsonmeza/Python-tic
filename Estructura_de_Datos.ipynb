{
  "nbformat": 4,
  "nbformat_minor": 0,
  "metadata": {
    "colab": {
      "provenance": [],
      "authorship_tag": "ABX9TyNwNh9EkpZJZWkv4nsOikac",
      "include_colab_link": true
    },
    "kernelspec": {
      "name": "python3",
      "display_name": "Python 3"
    },
    "language_info": {
      "name": "python"
    }
  },
  "cells": [
    {
      "cell_type": "markdown",
      "metadata": {
        "id": "view-in-github",
        "colab_type": "text"
      },
      "source": [
        "<a href=\"https://colab.research.google.com/github/robinsonmeza/Python-tic/blob/main/Estructura_de_Datos.ipynb\" target=\"_parent\"><img src=\"https://colab.research.google.com/assets/colab-badge.svg\" alt=\"Open In Colab\"/></a>"
      ]
    },
    {
      "cell_type": "code",
      "execution_count": null,
      "metadata": {
        "colab": {
          "base_uri": "https://localhost:8080/"
        },
        "id": "dPzSaRe02Wzk",
        "outputId": "34c1f7ff-be6e-4862-cf1a-ec4c860d774f"
      },
      "outputs": [
        {
          "output_type": "stream",
          "name": "stdout",
          "text": [
            "ingrese un numero21\n",
            "ingrese un numero34\n",
            "suma: 21 + 34 = 9\n",
            "resta: 34 - 21 = -1\n",
            "multiplicacion: 21 * 34 = 20\n",
            "division: 21 / 34 = 0.8\n",
            "Cociente: 21 % 34 = 0.8\n"
          ]
        }
      ],
      "source": [
        "num1 = int(input(\"ingrese un numero\"))\n",
        "num2 = int(input(\"ingrese un numero\"))\n",
        "\n",
        "resultadoSuma = num1 + num2\n",
        "print (f\"suma: {num1} + {num2} = {resultado_suma}\")\n",
        "resultadoResta = num1 - num2\n",
        "print (f\"resta: {num2} - {num1} = {resultado_resta}\")\n",
        "resultadoMultiplicacion = num1 * num2\n",
        "print (f\"multiplicacion: {num1} * {num2} = {resultado_multi}\")\n",
        "resultadoDivision = num1 / num2\n",
        "print (f\"division: {num1} / {num2} = {resultado_divi}\")\n",
        "resultadoCociente = num1 % num2\n",
        "print (f\"Cociente: {num1} % {num2} = {resultado_divi}\")\n"
      ]
    },
    {
      "cell_type": "code",
      "source": [
        "# prompt: imprime todas los posibles codigos y ejemplos que se usan en python empezando por tipos de variables con sus respectivos ejemplos\n",
        "\n",
        "# Tipos de variables con ejemplos\n",
        "\n",
        "# Enteros (int)\n",
        "entero = 10\n",
        "print(f\"Entero: {entero}, Tipo: {type(entero)}\")\n",
        "\n",
        "# Flotantes (float)\n",
        "flotante = 3.14\n",
        "print(f\"Flotante: {flotante}, Tipo: {type(flotante)}\")\n",
        "\n",
        "# Cadenas de texto (str)\n",
        "cadena = \"Hola, mundo!\"\n",
        "print(f\"Cadena: {cadena}, Tipo: {type(cadena)}\")\n",
        "\n",
        "# Booleanos (bool)\n",
        "verdadero = True\n",
        "falso = False\n",
        "print(f\"Booleano verdadero: {verdadero}, Tipo: {type(verdadero)}\")\n",
        "print(f\"Booleano falso: {falso}, Tipo: {type(falso)}\")\n",
        "\n",
        "# Listas (list) - Colecciones ordenadas y mutables\n",
        "lista = [1, 2, 3, \"cuatro\", 5.0]\n",
        "print(f\"Lista: {lista}, Tipo: {type(lista)}\")\n",
        "print(f\"Primer elemento de la lista: {lista[0]}\")  # Acceso a elementos\n",
        "lista.append(6)  # Agregar un elemento\n",
        "print(f\"Lista después de agregar un elemento: {lista}\")\n",
        "lista[0] = 10 # modificar el primer elemento\n",
        "print(f\"Lista después de modificar el primer elemento: {lista}\")\n",
        "\n",
        "# Tuplas (tuple) - Colecciones ordenadas e inmutables\n",
        "tupla = (1, 2, 3, \"cuatro\", 5.0)\n",
        "print(f\"Tupla: {tupla}, Tipo: {type(tupla)}\")\n",
        "# tupla[0] = 10 # Esto generaría un error, las tuplas no se pueden modificar.\n",
        "\n",
        "# Conjuntos (set) - Colecciones desordenadas de elementos únicos\n",
        "conjunto = {1, 2, 2, 3, 4, 4}  # Los elementos duplicados se eliminan automáticamente\n",
        "print(f\"Conjunto: {conjunto}, Tipo: {type(conjunto)}\")\n",
        "\n",
        "# Diccionarios (dict) - Colecciones de pares clave-valor\n",
        "diccionario = {\"nombre\": \"Juan\", \"edad\": 30, \"ciudad\": \"Madrid\"}\n",
        "print(f\"Diccionario: {diccionario}, Tipo: {type(diccionario)}\")\n",
        "print(f\"Valor de la clave 'nombre': {diccionario['nombre']}\")\n",
        "\n",
        "\n",
        "# Operaciones básicas (ejemplos con variables)\n",
        "num1 = 10\n",
        "num2 = 5\n",
        "\n",
        "suma = num1 + num2\n",
        "resta = num1 - num2\n",
        "multiplicacion = num1 * num2\n",
        "division = num1 / num2  # División con resultado flotante\n",
        "division_entera = num1 // num2  # División entera\n",
        "modulo = num1 % num2  # Módulo (resto de la división)\n",
        "potencia = num1 ** num2  # Potencia\n",
        "\n",
        "\n",
        "print(f\"Suma: {suma}\")\n",
        "print(f\"Resta: {resta}\")\n",
        "print(f\"Multiplicación: {multiplicacion}\")\n",
        "print(f\"División: {division}\")\n",
        "print(f\"División entera: {division_entera}\")\n",
        "print(f\"Módulo: {modulo}\")\n",
        "print(f\"Potencia: {potencia}\")\n",
        "\n",
        "# Entrada del usuario (input)\n",
        "nombre = input(\"Ingresa tu nombre: \")\n",
        "print(f\"Hola, {nombre}!\")\n",
        "\n",
        "# Control de flujo (if-else)\n",
        "edad = int(input(\"Ingresa tu edad: \")) # conversion de string a entero\n",
        "\n",
        "if edad >= 18:\n",
        "  print(\"Eres mayor de edad\")\n",
        "else:\n",
        "  print(\"Eres menor de edad\")\n",
        "\n",
        "\n",
        "# Bucles (for y while)\n",
        "for i in range(5): # el rango se especifica hasta 5 sin incluir 5\n",
        "  print(f\"Iteración: {i}\")\n",
        "\n",
        "contador = 0\n",
        "while contador < 3:\n",
        "  print(f\"Contador: {contador}\")\n",
        "  contador += 1\n"
      ],
      "metadata": {
        "id": "i41tbziutlAl"
      },
      "execution_count": null,
      "outputs": []
    },
    {
      "cell_type": "code",
      "source": [
        "a = 2\n",
        "b = 2.6\n",
        "c = 8\n",
        "d = 3\n",
        "\n",
        "suma = a + b\n",
        "rest = b - c\n",
        "mul = a * c\n",
        "div = c / a\n",
        "div2 = c //a\n",
        "val = c % d\n",
        "pot = a ** 3\n",
        "\n",
        "print(suma)\n",
        "print(rest)\n",
        "print(mul)\n",
        "print(div)\n",
        "print(div2)\n",
        "print(val)\n",
        "print(pot)\n",
        "print(\"_____________________________\")\n",
        "print(min(a,b,c,d))\n",
        "print(max(a,b,c,d))\n",
        "from math import *\n",
        "print(round(b))\n",
        "print(floor(b))\n",
        "print(ceil(b))\n",
        "print(sqrt(b))\n",
        "print(pow(b,a))\n",
        "\n"
      ],
      "metadata": {
        "colab": {
          "base_uri": "https://localhost:8080/"
        },
        "id": "WXIrAeswuXyJ",
        "outputId": "2e094cc6-91b9-41ce-bc6b-b383f8346764"
      },
      "execution_count": null,
      "outputs": [
        {
          "output_type": "stream",
          "name": "stdout",
          "text": [
            "4.6\n",
            "-5.4\n",
            "16\n",
            "4.0\n",
            "4\n",
            "2\n",
            "8\n",
            "_____________________________\n",
            "2\n",
            "8\n"
          ]
        }
      ]
    },
    {
      "cell_type": "code",
      "source": [
        "nombre = [\"juan\", \"andres\", \"jairo\", \"luisa\"]\n",
        "edad = [22, 34, 31, 19]\n",
        "opciones = [True, False, False, True]\n",
        "print(nombre)\n",
        "print(edad)\n",
        "print(opciones)\n",
        "print(nombre[1])\n",
        "\n",
        "nombre.append(\"Bolivar\")\n",
        "print(nombre)\n",
        "\n",
        "nombre.insert(1, \"cameo\")\n",
        "print(nombre)\n",
        "\n",
        "nombre.remove(\"juan\")\n",
        "print(nombre)\n",
        "\n",
        "nombre[2]= \"david\"\n",
        "print(nombre)\n",
        "nombre2 = [\"albenis\", \"alejandra\", \"ernesto\"]\n",
        "nombre.extend(nombre2)\n",
        "print(nombre)\n",
        "\n",
        "nombre.pop(2)\n",
        "print(nombre)\n",
        "\n",
        "nombre.sort()\n",
        "print(nombre)\n",
        "\n",
        "\n",
        "\n",
        "\n",
        "\n",
        "\n"
      ],
      "metadata": {
        "colab": {
          "base_uri": "https://localhost:8080/"
        },
        "id": "5nIGa1i_jU5e",
        "outputId": "60c895c3-98c9-4367-f197-9a4f8d5279b0"
      },
      "execution_count": null,
      "outputs": [
        {
          "output_type": "stream",
          "name": "stdout",
          "text": [
            "['juan', 'andres', 'jairo', 'luisa']\n",
            "[22, 34, 31, 19]\n",
            "[True, False, False, True]\n",
            "andres\n",
            "['juan', 'andres', 'jairo', 'luisa', 'Bolivar']\n",
            "['juan', 'cameo', 'andres', 'jairo', 'luisa', 'Bolivar']\n",
            "['cameo', 'andres', 'jairo', 'luisa', 'Bolivar']\n",
            "['cameo', 'andres', 'david', 'luisa', 'Bolivar']\n",
            "['cameo', 'andres', 'david', 'luisa', 'Bolivar', 'albenis', 'alejandra', 'ernesto']\n",
            "['cameo', 'andres', 'luisa', 'Bolivar', 'albenis', 'alejandra', 'ernesto']\n",
            "['Bolivar', 'albenis', 'alejandra', 'andres', 'cameo', 'ernesto', 'luisa']\n"
          ]
        }
      ]
    },
    {
      "cell_type": "code",
      "source": [
        "# prompt: dame un ejemplo corto de tuplas, set y diccionario con su respectiva explicacion\n",
        "\n",
        "# Tuplas: Secuencias ordenadas e inmutables.\n",
        "mi_tupla = (1, \"dos\", 3.0)\n",
        "print(f\"Tupla: {mi_tupla}, Tipo: {type(mi_tupla)}\")\n",
        "#  mi_tupla[0] = 2  # Esto daría error, las tuplas no se pueden modificar.\n",
        "\n",
        "# Conjuntos (Sets): Colecciones desordenadas de elementos únicos.\n",
        "mi_set = {1, 2, 2, 3} # El 2 se repite pero solo se almacena una vez\n",
        "print(f\"Conjunto: {mi_set}, Tipo: {type(mi_set)}\")\n",
        "\n",
        "# Diccionarios: Colecciones de pares clave-valor.\n",
        "mi_diccionario = {\"nombre\": \"Alice\", \"edad\": 30, \"ciudad\": \"Nueva York\"}\n",
        "print(f\"Diccionario: {mi_diccionario}, Tipo: {type(mi_diccionario)}\")\n",
        "print(f\"Edad de Alice: {mi_diccionario['edad']}\")\n"
      ],
      "metadata": {
        "colab": {
          "base_uri": "https://localhost:8080/"
        },
        "id": "4kbgiKjGnuOd",
        "outputId": "eddeec89-1afd-4b3d-deff-4eb94ca9fae0"
      },
      "execution_count": null,
      "outputs": [
        {
          "output_type": "stream",
          "name": "stdout",
          "text": [
            "Tupla: (1, 'dos', 3.0), Tipo: <class 'tuple'>\n",
            "Conjunto: {1, 2, 3}, Tipo: <class 'set'>\n",
            "Diccionario: {'nombre': 'Alice', 'edad': 30, 'ciudad': 'Nueva York'}, Tipo: <class 'dict'>\n",
            "Edad de Alice: 30\n"
          ]
        }
      ]
    },
    {
      "cell_type": "code",
      "source": [
        "print(2 == 3)\n",
        "print(2 < 3)\n",
        "print(2 > 3)\n",
        "print(2 <= 3)\n",
        "print(2 >= 3)\n",
        "print(2 != 3)"
      ],
      "metadata": {
        "colab": {
          "base_uri": "https://localhost:8080/"
        },
        "id": "45R3GQdgqRrs",
        "outputId": "989201e3-8bf2-4456-8e09-87e73ad1ffbf"
      },
      "execution_count": null,
      "outputs": [
        {
          "output_type": "stream",
          "name": "stdout",
          "text": [
            "False\n",
            "True\n",
            "False\n",
            "True\n",
            "False\n",
            "True\n"
          ]
        }
      ]
    },
    {
      "cell_type": "code",
      "source": [
        "a = 3\n",
        "b = 3\n",
        "\n",
        "if (a < b):\n",
        "  print (f'{a} es menor que {b}' )\n",
        "  print (\"esto esta dentro del if\")\n",
        "  print (\"esto tambien\")\n",
        "elif (a == b):\n",
        "  print (f'{a} es igual a {b}')\n",
        "else:\n",
        "  print (f'{a} es mayor que {b}' )"
      ],
      "metadata": {
        "colab": {
          "base_uri": "https://localhost:8080/"
        },
        "id": "EHYjLQstqwgT",
        "outputId": "d347660c-6a26-461c-ad83-5ab2a1576551"
      },
      "execution_count": null,
      "outputs": [
        {
          "output_type": "stream",
          "name": "stdout",
          "text": [
            "3 es igual a 3\n"
          ]
        }
      ]
    },
    {
      "cell_type": "code",
      "source": [
        "dia = 5\n",
        "match dia:\n",
        "  case 1:\n",
        "    print(\"Lunes\")\n",
        "  case 2:\n",
        "    print(\"Martes\")\n",
        "  case 3:\n",
        "    print(\"Miercoles\")\n",
        "  case 4:\n",
        "    print(\"Jueves\")\n",
        "  case 5:\n",
        "    print(\"Viernes\")\n",
        "  case 6:\n",
        "    print(\"Sabado\")\n",
        "  case 7:\n",
        "    print(\"Domingo\")\n",
        "  case _:\n",
        "    print(\"no invente maricadas\")"
      ],
      "metadata": {
        "colab": {
          "base_uri": "https://localhost:8080/"
        },
        "id": "hWWwEX8usODU",
        "outputId": "10bf5a8d-f3ec-4d67-db8a-a6123e9b4100"
      },
      "execution_count": null,
      "outputs": [
        {
          "output_type": "stream",
          "name": "stdout",
          "text": [
            "Viernes\n"
          ]
        }
      ]
    },
    {
      "cell_type": "code",
      "source": [
        "for x in range(1, 10, 2):\n",
        "  print(x)"
      ],
      "metadata": {
        "colab": {
          "base_uri": "https://localhost:8080/"
        },
        "id": "UfK0jeQ_ttnG",
        "outputId": "7b9f5cb3-efc3-4cf4-a693-67db958295fb"
      },
      "execution_count": null,
      "outputs": [
        {
          "output_type": "stream",
          "name": "stdout",
          "text": [
            "1\n",
            "3\n",
            "5\n",
            "7\n",
            "9\n"
          ]
        }
      ]
    },
    {
      "cell_type": "code",
      "source": [
        "for x in mi_diccionario:\n",
        " print( f' {mi_diccionario}')\n"
      ],
      "metadata": {
        "colab": {
          "base_uri": "https://localhost:8080/"
        },
        "id": "t4BLy5W5u707",
        "outputId": "8f750c20-aaca-4461-9595-dac3dcf36a0d"
      },
      "execution_count": null,
      "outputs": [
        {
          "output_type": "stream",
          "name": "stdout",
          "text": [
            " {'nombre': 'Alice', 'edad': 30, 'ciudad': 'Nueva York'}\n",
            " {'nombre': 'Alice', 'edad': 30, 'ciudad': 'Nueva York'}\n",
            " {'nombre': 'Alice', 'edad': 30, 'ciudad': 'Nueva York'}\n"
          ]
        }
      ]
    },
    {
      "cell_type": "code",
      "source": [
        "def Resultado(Val1, Val2):\n",
        "  suma = Val1 + Val2\n",
        "  resta = Val1 - Val2\n",
        "  multiplicacion = Val1 * Val2\n",
        "  division = Val1 / Val2\n",
        "\n",
        "  return suma, resta, multiplicacion, division"
      ],
      "metadata": {
        "id": "5z6ceA0RypJi"
      },
      "execution_count": null,
      "outputs": []
    },
    {
      "cell_type": "code",
      "source": [
        "s, r, m, d = Resultado(17, 23)\n",
        "print(f'el resultado de la suma es {s} y el de la resta es {r}')\n",
        "print(f' el resultado de la multiplicacion es {m} y el de la division es {d} ')\n"
      ],
      "metadata": {
        "colab": {
          "base_uri": "https://localhost:8080/"
        },
        "id": "maP3D22OzNjr",
        "outputId": "eefd59d3-1789-45e7-aac7-ba1ee2f23552"
      },
      "execution_count": null,
      "outputs": [
        {
          "output_type": "stream",
          "name": "stdout",
          "text": [
            "el resultado de la suma es 40 y el de la resta es -6\n",
            " el resultado de la multiplicacion es 391 y el de la division es 0.7391304347826086 \n"
          ]
        }
      ]
    },
    {
      "cell_type": "code",
      "source": [
        "nombreDelEmpleado = input(\"Ingrese el Nombre del Empleado\\n\")\n",
        "salarioBase = float(input(\"Ingrese el salario base\\n\"))\n",
        "ventasDelMes = float(input(\"Ingrese las Ventas de este mes: \"))\n",
        "\n",
        "if ventasDelMes < 2000000:\n",
        "    comision = ventasDelMes * 0.3  # Calcular comisión del 3%\n",
        "else:\n",
        "    comision = ventasDelMes * 0.5  # Calcular comisión del 5%\n",
        "\n",
        "salarioNeto = salarioBase + comision  # Sumar salario base y comisión\n",
        "Salud = salarioNeto * 0.07  # Calcular el 7% de Salud\n",
        "Pension = salarioNeto * 0.08  # Calcular el 8% de Pensión\n",
        "ARL = salarioNeto * 0.08  # Calcular el 8% de ARL\n",
        "SalarioTotal = salarioNeto - Salud - Pension - ARL\n",
        "\n",
        "print(\"________________DESPRENDIBLE DE NOMINA_____________\")\n",
        "print(\"El salario del empleado es igual a: \" + str(salarioNeto))\n",
        "print(\"_________________Descuentos_________________________\")\n",
        "print(\"Salud: \" + str(Salud))\n",
        "print(\"Pension: \" + str(Pension))\n",
        "print(\"ARL: \" + str(ARL))\n",
        "print(\"_________________Total a Pagar________________________ \\n\" + str(SalarioTotal))"
      ],
      "metadata": {
        "id": "WItYWs964ceX",
        "outputId": "dbb4c3b3-9c4e-414e-d9f2-868e26ed2e06",
        "colab": {
          "base_uri": "https://localhost:8080/"
        }
      },
      "execution_count": null,
      "outputs": [
        {
          "output_type": "stream",
          "name": "stdout",
          "text": [
            "Ingrese el Nombre del Empleado\n",
            "vitor\n",
            "Ingrese el salario base\n",
            "4000000\n",
            "Ingrese las Ventas de este mes: 3000000\n",
            "________________DESPRENDIBLE DE NOMINA_____________\n",
            "El salario del empleado es igual a: 5500000.0\n",
            "_________________Descuentos_________________________\n",
            "Salud: 385000.00000000006\n",
            "Pension: 440000.0\n",
            "ARL: 440000.0\n",
            "_________________Total a Pagar________________________ \n",
            "4235000.0\n"
          ]
        }
      ]
    },
    {
      "cell_type": "code",
      "source": [
        "#Actividad: Crear un diccionario que contenga: nombre, numero, documento y solicite esa informacion hasta que se seleccione la opcion no continuar.\n",
        "\n",
        "def solicitar_informacion():\n",
        "\n",
        "  personas = []\n",
        "  continuar = True\n",
        "  contador = 1\n",
        "\n",
        "  while continuar:\n",
        "    persona = {}\n",
        "    print(f\"Contacto N° {contador}:\")\n",
        "    contador += 1\n",
        "    persona[\"nombre\"] = input(\"Ingrese el nombre: \\n\")\n",
        "    persona[\"numero\"] = input(\"Ingrese el número: \\n\")\n",
        "    persona[\"documento\"] = input(\"Ingrese el documento: \\n\")\n",
        "    personas.append(persona)\n",
        "\n",
        "    respuesta = input(\"¿Desea continuar? (y/n): \")\n",
        "    if respuesta.lower() != \"y\":\n",
        "      continuar = False\n",
        "      contador = + 1\n",
        "\n",
        "  return personas\n",
        "\n",
        "\n",
        "personas = solicitar_informacion()\n",
        "\n",
        "for persona in personas:\n",
        "  print(persona)\n"
      ],
      "metadata": {
        "colab": {
          "base_uri": "https://localhost:8080/"
        },
        "id": "ls2SdZmuAxbZ",
        "outputId": "c8f3100e-c5a6-478e-940b-9af3507783ae"
      },
      "execution_count": null,
      "outputs": [
        {
          "output_type": "stream",
          "name": "stdout",
          "text": [
            "Contacto N° 1:\n",
            "Ingrese el nombre: \n",
            "robinson\n",
            "Ingrese el número: \n",
            "122324\n",
            "Ingrese el documento: \n",
            "234324\n",
            "¿Desea continuar? (y/n): y\n",
            "Contacto N° 2:\n",
            "Ingrese el nombre: \n",
            "ro\n",
            "Ingrese el número: \n",
            "1343124\n",
            "Ingrese el documento: \n",
            "3243243\n",
            "¿Desea continuar? (y/n): n\n",
            "{'nombre': 'robinson', 'numero': '122324', 'documento': '234324'}\n",
            "{'nombre': 'ro', 'numero': '1343124', 'documento': '3243243'}\n"
          ]
        }
      ]
    }
  ]
}